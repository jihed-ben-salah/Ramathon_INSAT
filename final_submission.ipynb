{
 "cells": [
  {
   "cell_type": "markdown",
   "id": "98ce1769",
   "metadata": {},
   "source": [
    "#### Importing"
   ]
  },
  {
   "cell_type": "code",
   "execution_count": 1,
   "id": "7eff538b",
   "metadata": {},
   "outputs": [],
   "source": [
    "# importing data manipulation and visualization libraries\n",
    "import pandas as pd\n",
    "import numpy as np\n",
    "import matplotlib.pyplot as plt\n",
    "import seaborn as sns\n",
    "import datetime\n",
    "from sklearn.feature_selection import mutual_info_classif\n",
    "\n",
    "# importing classifiers \n",
    "from sklearn.ensemble import RandomForestClassifier, AdaBoostClassifier\n",
    "from sklearn.linear_model import LogisticRegression\n",
    "from lightgbm import LGBMClassifier\n",
    "from sklearn.neighbors import KNeighborsClassifier\n",
    "from sklearn.mixture import GaussianMixture\n",
    "from sklearn.tree import DecisionTreeClassifier\n",
    "from sklearn.svm import SVC\n",
    "from xgboost import XGBClassifier\n",
    "from imblearn.over_sampling import SMOTE, BorderlineSMOTE, ADASYN\n",
    "\n",
    "import re\n",
    "### importing utils\n",
    "from sklearn.pipeline import Pipeline\n",
    "from sklearn.preprocessing import RobustScaler, OneHotEncoder\n",
    "from sklearn.model_selection import cross_val_score, GridSearchCV, train_test_split, RepeatedStratifiedKFold\n",
    "from sklearn.metrics import log_loss,f1_score,accuracy_score, confusion_matrix, classification_report, ConfusionMatrixDisplay\n",
    "from tqdm import tqdm\n",
    "\n",
    "import warnings\n",
    "warnings.filterwarnings('ignore')\n",
    "pd.options.display.float_format = '{:.5f}'.format\n",
    "%matplotlib inline\n",
    "\n",
    "plt.style.use(\"seaborn-whitegrid\")\n",
    "plt.rc(\"figure\", autolayout=True)\n",
    "plt.rc(\n",
    "    \"axes\",\n",
    "    labelweight=\"bold\",\n",
    "    labelsize=\"large\",\n",
    "    titleweight=\"bold\",\n",
    "    titlesize=14,\n",
    "    titlepad=10,\n",
    ")"
   ]
  },
  {
   "cell_type": "code",
   "execution_count": 2,
   "id": "5e54b40d",
   "metadata": {},
   "outputs": [],
   "source": [
    "def make_mi_scores(X, y):\n",
    "    X = X.copy()\n",
    "    # All discrete features should now have integer dtypes\n",
    "    discrete_features = [pd.api.types.is_integer_dtype(t) for t in X.dtypes]\n",
    "    mi_scores = mutual_info_classif(X, y, discrete_features=discrete_features, random_state=0)\n",
    "    mi_scores = pd.Series(mi_scores, name=\"MI Scores\", index=X.columns)\n",
    "    mi_scores = mi_scores.sort_values(ascending=False)\n",
    "    return mi_scores\n",
    "def plot_mi_scores(scores):\n",
    "    scores = scores.sort_values(ascending=True)\n",
    "    width = np.arange(len(scores))\n",
    "    ticks = list(scores.index)\n",
    "    plt.barh(width, scores)\n",
    "    plt.yticks(width, ticks)\n",
    "    plt.title(\"Mutual Information Scores\")"
   ]
  },
  {
   "cell_type": "code",
   "execution_count": 3,
   "id": "e99a0e53",
   "metadata": {},
   "outputs": [],
   "source": [
    "#!pip install -U dataprep"
   ]
  },
  {
   "cell_type": "code",
   "execution_count": 4,
   "id": "02a64af1",
   "metadata": {},
   "outputs": [],
   "source": [
    "X_full = pd.read_csv('train.csv')\n",
    "X_test = pd.read_csv('test.csv')"
   ]
  },
  {
   "cell_type": "code",
   "execution_count": 5,
   "id": "115a8fd5",
   "metadata": {},
   "outputs": [],
   "source": [
    "def process(df):\n",
    "    \n",
    "    #remove non-numerical characters from office \n",
    "    df.OFFICE = df.OFFICE.str.replace(r\"[a-zA-Z]\",'')\n",
    "    df.OFFICE = df.OFFICE.astype(int)\n",
    "    \n",
    "    #remove non-numerical characters from origin \n",
    "    df[\"ORIGIN.CODE\"] = df[\"ORIGIN.CODE\"].str.replace(r\"[a-zA-Z]\",'')\n",
    "    df[\"ORIGIN.CODE\"] = df[\"ORIGIN.CODE\"].astype(int)    \n",
    "    #fill missing date values with a random date\n",
    "    df['date'] = pd.to_datetime(df['date'])\n",
    "    #split date \n",
    "    \n",
    "    df[\"year\"] = df['date'].dt.year\n",
    "    df[\"month\"] = df['date'].dt.month\n",
    "    df[\"day\"] = df['date'].dt.day\n",
    "    \n",
    "    df['woy'] = df['date'].dt.weekofyear\n",
    "    df['dow'] = df['date'].dt.dayofweek\n",
    "    df['woy'] = df['woy'].fillna(34)\n",
    "    df['day'] = df['day'].fillna(23)\n",
    "    \n",
    "    df['year'] = df['year'].fillna(2014)\n",
    "    \n",
    "    df['woy'] = df['woy'].fillna(34)\n",
    "    \n",
    "    #drop date\n",
    "    df = df.drop([\"date\"],axis=1)\n",
    "    df = df.drop([\"ID\"],axis=1)\n",
    "    \n",
    "    #split importer words from num\n",
    "    L_type=[]\n",
    "    L_imp=[]\n",
    "    for index, row in df.iterrows():\n",
    "        a=re.split('(\\d+)',df['IMPORTER.TIN'][index])\n",
    "        L_type.append(a[0])\n",
    "        L_imp.append(a[1])\n",
    "    df['IMPORTER_Type']=L_type\n",
    "    df['IMPORTER']=L_imp\n",
    "    df['IMPORTER'] = df['IMPORTER'].astype(int)\n",
    "    df = df.drop([\"IMPORTER.TIN\"],axis=1)\n",
    "    outliers = []\n",
    "    \n",
    "    df['IMPORTER_Type'].replace({'IMP':0, 'IMPO':1},inplace=True)\n",
    "\n",
    "    df.loc[:, 'Q'] = df.loc[:,'TOTAL.TAXES.USD'] / df.loc[:,'GROSS.WEIGHT']\n",
    "    df.loc[:, 'WQ'] = df.loc[:,'GROSS.WEIGHT'] / df.loc[:,'QUANTITY']\n",
    "  \n",
    "    \n",
    "    \n",
    "   \n",
    "    \n",
    "    \n",
    "    \n",
    "\n",
    "    \n",
    "  \n",
    "    \"\"\"df['chapter'] = df['TARIFF.CODE'].astype(str).str[0:2]\n",
    "    df['heading'] = df['TARIFF.CODE'].astype(str).str[2:4]\n",
    "    df['sub-heading'] = df['TARIFF.CODE'].astype(str).str[4:6]\n",
    "    df['extra_digits'] = df['TARIFF.CODE'].astype(str).str[6:]\n",
    "    df.drop(columns=['TARIFF.CODE'],inplace=True)\"\"\"\n",
    "    \n",
    "    \n",
    "    return df"
   ]
  },
  {
   "cell_type": "code",
   "execution_count": 6,
   "id": "c707f011",
   "metadata": {},
   "outputs": [],
   "source": [
    "X_full = process(X_full)"
   ]
  },
  {
   "cell_type": "code",
   "execution_count": 7,
   "id": "fd62003b",
   "metadata": {},
   "outputs": [
    {
     "name": "stdout",
     "output_type": "stream",
     "text": [
      "<class 'pandas.core.frame.DataFrame'>\n",
      "RangeIndex: 160000 entries, 0 to 159999\n",
      "Data columns (total 17 columns):\n",
      " #   Column              Non-Null Count   Dtype  \n",
      "---  ------              --------------   -----  \n",
      " 0   OFFICE              160000 non-null  int32  \n",
      " 1   TARIFF.CODE         160000 non-null  int64  \n",
      " 2   ORIGIN.CODE         160000 non-null  int32  \n",
      " 3   CIF_USD_EQUIVALENT  160000 non-null  float64\n",
      " 4   QUANTITY            160000 non-null  float64\n",
      " 5   GROSS.WEIGHT        160000 non-null  float64\n",
      " 6   TOTAL.TAXES.USD     160000 non-null  float64\n",
      " 7   illicit             160000 non-null  int64  \n",
      " 8   year                160000 non-null  float64\n",
      " 9   month               157244 non-null  float64\n",
      " 10  day                 160000 non-null  float64\n",
      " 11  woy                 160000 non-null  float64\n",
      " 12  dow                 157244 non-null  float64\n",
      " 13  IMPORTER_Type       160000 non-null  int64  \n",
      " 14  IMPORTER            160000 non-null  int32  \n",
      " 15  Q                   160000 non-null  float64\n",
      " 16  WQ                  160000 non-null  float64\n",
      "dtypes: float64(11), int32(3), int64(3)\n",
      "memory usage: 18.9 MB\n"
     ]
    }
   ],
   "source": [
    "X_full.info()"
   ]
  },
  {
   "cell_type": "code",
   "execution_count": 8,
   "id": "1b7ba575",
   "metadata": {},
   "outputs": [
    {
     "data": {
      "image/png": "[encoded data removed]",
      "text/plain": [
       "<Figure size 432x288 with 1 Axes>"
      ]
     },
     "metadata": {},
     "output_type": "display_data"
    }
   ],
   "source": [
    "ax=sns.boxplot(x= \"illicit\", y=X_full['TOTAL.TAXES.USD'], data = X_full)"
   ]
  },
  {
   "cell_type": "code",
   "execution_count": 9,
   "id": "05b4ff29",
   "metadata": {},
   "outputs": [],
   "source": [
    "\n",
    "X = X_full.drop('illicit',axis=1)\n",
    "y = X_full.illicit\n",
    "\n",
    "X_train, X_valid, y_train, y_valid =train_test_split(X, y, train_size=0.8, test_size=0.2,\n",
    "                                                      random_state=0)"
   ]
  },
  {
   "cell_type": "markdown",
   "id": "98a4f7cf",
   "metadata": {},
   "source": [
    "#### Modeling "
   ]
  },
  {
   "cell_type": "code",
   "execution_count": 10,
   "id": "f0f64def",
   "metadata": {},
   "outputs": [],
   "source": [
    "weights = [1, 10, 25, 50, 75, 99, 100, 1000]\n",
    "param_grid = dict(scale_pos_weight=weights)"
   ]
  },
  {
   "cell_type": "code",
   "execution_count": 11,
   "id": "0c61ddb8",
   "metadata": {},
   "outputs": [],
   "source": [
    "params = {\n",
    "    'learning_rate':0.15,  \n",
    "\n",
    "    'subsample':0.9,\n",
    " \n",
    "      \n",
    "}"
   ]
  },
  {
   "cell_type": "code",
   "execution_count": 12,
   "id": "e47d7967",
   "metadata": {},
   "outputs": [
    {
     "name": "stdout",
     "output_type": "stream",
     "text": [
      "[06:36:49] WARNING: C:/Users/Administrator/workspace/xgboost-win64_release_1.5.1/src/learner.cc:1115: Starting in XGBoost 1.3.0, the default evaluation metric used with the objective 'binary:logistic' was changed from 'error' to 'logloss'. Explicitly set eval_metric if you'd like to restore the old behavior.\n"
     ]
    }
   ],
   "source": [
    "xgb_model = XGBClassifier(learning_rate=params['learning_rate'],scale_pos_weight=10)\n",
    "xgb_model.fit(X_train, y_train)\n",
    "\n",
    "# Making predictions\n",
    "y_pred = xgb_model.predict(X_valid)"
   ]
  },
  {
   "cell_type": "code",
   "execution_count": 13,
   "id": "039b84b4",
   "metadata": {},
   "outputs": [],
   "source": [
    "def evaluate(test,predictions):\n",
    "    print(f'Accuracy score: {accuracy_score(test, predictions)}')\n",
    "    print('\\n')\n",
    "    print(f'{classification_report(test, predictions)}')"
   ]
  },
  {
   "cell_type": "code",
   "execution_count": 14,
   "id": "458ff151",
   "metadata": {},
   "outputs": [
    {
     "name": "stdout",
     "output_type": "stream",
     "text": [
      "Accuracy score: 0.81509375\n",
      "\n",
      "\n",
      "              precision    recall  f1-score   support\n",
      "\n",
      "           0       0.98      0.82      0.89     29803\n",
      "           1       0.23      0.75      0.36      2197\n",
      "\n",
      "    accuracy                           0.82     32000\n",
      "   macro avg       0.61      0.78      0.62     32000\n",
      "weighted avg       0.93      0.82      0.86     32000\n",
      "\n"
     ]
    }
   ],
   "source": [
    "evaluate(y_valid,y_pred)"
   ]
  },
  {
   "cell_type": "code",
   "execution_count": 15,
   "id": "4a5e92ff",
   "metadata": {},
   "outputs": [
    {
     "data": {
      "image/png": "[encoded data removed]",
      "text/plain": [
       "<Figure size 720x720 with 1 Axes>"
      ]
     },
     "metadata": {},
     "output_type": "display_data"
    }
   ],
   "source": [
    "impo_df = pd.DataFrame({'feature': X_train.columns, 'importance': xgb_model.feature_importances_}).set_index('feature').sort_values(by = 'importance', ascending = False)\n",
    "impo_df = impo_df[:12].sort_values(by = 'importance', ascending = True)\n",
    "impo_df.plot(kind = 'barh', figsize = (10, 10), color = 'purple')\n",
    "plt.legend(loc = 'center right')\n",
    "plt.title('Bar chart showing feature importance', color = 'indigo', fontsize = 14)\n",
    "plt.xlabel('Features', fontsize = 12, color = 'indigo')\n",
    "plt.show()"
   ]
  },
  {
   "cell_type": "code",
   "execution_count": 16,
   "id": "035637d0",
   "metadata": {},
   "outputs": [],
   "source": [
    "ss = pd.read_csv('sample_submission.csv')\n",
    "df_test = pd.read_csv('test.csv')\n",
    "test = process(df_test)\n",
    "ss['illicit'] = xgb_model.predict(test)\n",
    "version = 'I.csv'\n",
    "ss.to_csv(version, index=False)"
   ]
  }
 ],
 "metadata": {
  "kernelspec": {
   "display_name": "Python 3 (ipykernel)",
   "language": "python",
   "name": "python3"
  },
  "language_info": {
   "codemirror_mode": {
    "name": "ipython",
    "version": 3
   },
   "file_extension": ".py",
   "mimetype": "text/x-python",
   "name": "python",
   "nbconvert_exporter": "python",
   "pygments_lexer": "ipython3",
   "version": "3.9.12"
  }
 },
 "nbformat": 4,
 "nbformat_minor": 5
}
